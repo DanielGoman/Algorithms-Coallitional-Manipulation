{
  "nbformat": 4,
  "nbformat_minor": 0,
  "metadata": {
    "colab": {
      "name": "SocialChoice_207977166_315275511.ipynb",
      "provenance": [],
      "collapsed_sections": [],
      "toc_visible": true
    },
    "kernelspec": {
      "name": "python3",
      "display_name": "Python 3"
    }
  },
  "cells": [
    {
      "cell_type": "markdown",
      "metadata": {
        "id": "0scTN5adesVb"
      },
      "source": [
        "# **Social Choice Course - Final Project**"
      ]
    },
    {
      "cell_type": "markdown",
      "metadata": {
        "id": "FEETSrkLlMEI"
      },
      "source": [
        "#Introduction\r\n",
        "\r\n",
        "A work by Lior Danino and Daniel Goman\r\n",
        "\r\n",
        "This project features the algorithms suggested by M. Zuckerman, A.D. Procaccia and J.S. Rosenchein in a paper they published in 2008.\r\n",
        "\r\n",
        "Link to the paper: https://www.sciencedirect.com/science/article/pii/S0004370208001963\r\n",
        "\r\n",
        "The paper discusses the topic of Constructive Coallitional Weighted/Unweighted Manipulation problem (CCWM/CCUM respectively) \r\n",
        "\r\n",
        "The paper features 3 algorithms that under some assumptions, correctly find if there's a coallitional manipulation in the Borda, Maximin and Plurality with Runoff voting rules.\r\n",
        "\r\n",
        "The novelty of their work is presenting algorithms of polynomial time complexity in the size of the input to solve the problem of CCWM/CCUM, which is considered NP-Hard for a variety of prominent voting rules.\r\n",
        "\r\n",
        "In our work we implement the 3 algorithms described in the paper, and run it on some demo input to display its validity."
      ]
    },
    {
      "cell_type": "code",
      "metadata": {
        "id": "i8YaGEUX-1yO"
      },
      "source": [
        "import numpy as np\r\n",
        "from operator import itemgetter\r\n",
        "from itertools import product"
      ],
      "execution_count": 95,
      "outputs": []
    },
    {
      "cell_type": "markdown",
      "metadata": {
        "id": "OXBU-bCrLfSh"
      },
      "source": [
        "**Borda rule:**\r\n",
        "\r\n",
        "This is a weighted version of the Borda voting rule.\r\n",
        "\r\n",
        "Each voter ranks the candidates with the scores *m-1, m-2,...,0* (*m* is the amount of candidates) where his favorite candidate gets *m-1* and his least favorite candidate gets *0*. Since the voters have weights, we multiply each score by the weight of the relevant voter.\r\n",
        "The final Borda-score of each candidate is the sum of the scores (after multiplication in weights) given to him by all the voters.\r\n",
        "\r\n",
        "\r\n",
        "\r\n",
        "---\r\n",
        "\r\n",
        "\r\n",
        "Parameters:\r\n",
        "\r\n",
        "        \r\n",
        "        C: list, shape(num_candidates)\r\n",
        "            set of candidates\r\n",
        "\r\n",
        "        Ws: list, shape(num_voters)\r\n",
        "            weights of truthful voters\r\n",
        "\r\n",
        "        Wt: list, shape(num_manipulators) \r\n",
        "            weights of manipulators\r\n",
        "\r\n",
        "        Prefs: list, shape(num_voters, num_candidates)\r\n",
        "            preferences of voters\r\n",
        "\r\n",
        "    \r\n",
        "Returns:\r\n",
        "\r\n",
        "        borda_scores: dict\r\n",
        "            {candidate i: borda score}"
      ]
    },
    {
      "cell_type": "code",
      "metadata": {
        "id": "OIbxovzlLLPN"
      },
      "source": [
        "# Borda\r\n",
        "\r\n",
        "def borda_rule(C, Ws, Wt, prefs):\r\n",
        "    m = len(C)\r\n",
        "    scores = {i:[] for i in range(1, m+1)}\r\n",
        "    W = Ws.copy()\r\n",
        "    W.extend(Wt)\r\n",
        "    for voter in range(len(prefs)):\r\n",
        "        for i in range(m):\r\n",
        "            scores[prefs[voter][i]].append((m-i-1) * W[voter])\r\n",
        "    borda_scores = {i:sum(scores[i]) for i in range(1, m+1)}\r\n",
        "    \r\n",
        "    return borda_scores"
      ],
      "execution_count": 96,
      "outputs": []
    },
    {
      "cell_type": "markdown",
      "metadata": {
        "id": "dLwVVBqlS0Oz"
      },
      "source": [
        "**Maximin rule:**\r\n",
        "\r\n",
        "This is a weighted version of the Maximin voting rule.\r\n",
        "\r\n",
        "For any two distinct candidates x and y, the score for (x, y) is the sum of the weights of the voters who prefer x over y.\r\n",
        "The final Maximin-score of each candidate x is the minimum score over all the (x, z) scores where z is every candidate different from x.\r\n",
        "\r\n",
        "\r\n",
        "\r\n",
        "---\r\n",
        "\r\n",
        "\r\n",
        "Parameters:\r\n",
        "\r\n",
        "        \r\n",
        "        C: list, shape(num_candidates)\r\n",
        "            set of candidates\r\n",
        "\r\n",
        "        Ws: list, shape(num_voters)\r\n",
        "            weights of truthful voters\r\n",
        "\r\n",
        "        Wt: list, shape(num_manipulators) \r\n",
        "            weights of manipulators\r\n",
        "\r\n",
        "        Prefs: list, shape(num_voters, num_candidates)\r\n",
        "            preferences of voters\r\n",
        "\r\n",
        "    \r\n",
        "Returns:\r\n",
        "\r\n",
        "        maximin_scores: dict\r\n",
        "            {candidate i: maximin score}"
      ]
    },
    {
      "cell_type": "code",
      "metadata": {
        "id": "FGW50B9XeWCc"
      },
      "source": [
        "# Maximin\r\n",
        "\r\n",
        "def maximin_rule(C, Ws, Wt, prefs):\r\n",
        "    m = len(C)\r\n",
        "    scores = {(i,j):[] for i, j in product(set(C), set(C)) if i != j}\r\n",
        "    W = Ws.copy()\r\n",
        "    W.extend(Wt)\r\n",
        "    for voter in range(len(prefs)):\r\n",
        "        for i in range(m-1):\r\n",
        "            for j in range(m):\r\n",
        "                if i == j or j < i:\r\n",
        "                    continue\r\n",
        "                scores[(prefs[voter][i], prefs[voter][j])].append(W[voter])\r\n",
        "\r\n",
        "    # calc scores for each pair\r\n",
        "    all_scores = {(i, j): sum(scores[(i, j)]) for i, j in product(set(C), set(C)) if i != j}\r\n",
        "    # create an array with [candidate, score] for all the scores\r\n",
        "    array_scores = np.array([[key[0], value] for key, value in all_scores.items()])\r\n",
        "    # pick the minimal score for each candidate\r\n",
        "    maximin_scores = {i: np.min(array_scores[array_scores[:, 0]==i][:, 1], axis=0) for i in range(1, m+1)}\r\n",
        "\r\n",
        "    return maximin_scores"
      ],
      "execution_count": 97,
      "outputs": []
    },
    {
      "cell_type": "markdown",
      "metadata": {
        "id": "kkgay_DPga9d"
      },
      "source": [
        "**get_scores:**\r\n",
        "\r\n",
        "Calculates the score according to Borda or Maximin voting rules.\r\n",
        "\r\n",
        "\r\n",
        "---\r\n",
        "\r\n",
        "\r\n",
        "\r\n",
        "Parameters:\r\n",
        "\r\n",
        "        rule: string\r\n",
        "            name of the rule: 'Borda' or 'Maximin'\r\n",
        "\r\n",
        "        C: list, shape(num_candidates)\r\n",
        "            set of candidates\r\n",
        "\r\n",
        "        Ws: list, shape(num_voters)\r\n",
        "            weights of truthful voters\r\n",
        "\r\n",
        "        Wt: list, shape(num_manipulators) \r\n",
        "            weights of manipulators\r\n",
        "\r\n",
        "        Prefs: list, shape(num_voters, num_candidates)\r\n",
        "            preferences of voters\r\n",
        "\r\n",
        "    \r\n",
        "Returns:\r\n",
        "\r\n",
        "        scores: dict\r\n",
        "            {candidate i: score}"
      ]
    },
    {
      "cell_type": "code",
      "metadata": {
        "id": "ORmgp2oEdhJ7"
      },
      "source": [
        "def get_scores(rule, C, Ws, Wt, prefs):\r\n",
        "    if rule == 'Borda':\r\n",
        "        scores = borda_rule(C, Ws, Wt, prefs)\r\n",
        "    else:\r\n",
        "        scores = maximin_rule(C, Ws, Wt, prefs)\r\n",
        "    return scores"
      ],
      "execution_count": 98,
      "outputs": []
    },
    {
      "cell_type": "markdown",
      "metadata": {
        "id": "PzrCuDK5hu8x"
      },
      "source": [
        "**get_scores_i:**\r\n",
        "\r\n",
        "return the score for a specific candidate according to unweighted Borda rule."
      ]
    },
    {
      "cell_type": "code",
      "metadata": {
        "id": "3wXsS3Yelp1N"
      },
      "source": [
        "def get_score_i(rule, C, i):\r\n",
        "    if rule == 'Borda':\r\n",
        "        score = len(C) - i\r\n",
        "    return score"
      ],
      "execution_count": 99,
      "outputs": []
    },
    {
      "cell_type": "markdown",
      "metadata": {
        "id": "jYfLUpiIHVDK"
      },
      "source": [
        "# **Algorithm 1**\r\n",
        "\r\n",
        "Checks whether there exists a manipulation in the weighted Borda and Maximin voting rules.\r\n",
        "\r\n",
        "**Guarantees:**\r\n",
        "\r\n",
        "• In the Maximin rule, if there exists a manipulation for an instance with certain weights, Algorithm 1 will succeed when given two copies of the set of manipulators.\r\n",
        "\r\n",
        "\r\n",
        "---\r\n",
        "\r\n",
        "\r\n",
        "Algorithm 1 is a general greedy algorithm.\r\n",
        "Each manipulator ranks candidate p as his first preference.\r\n",
        "Then, in a descending order according to their weights, each manipulator pick his next preferences to be the candidates who earn the least from being ranked next (the candidates who get the minimal score when being ranked as the next preference).\r\n",
        "\r\n",
        "The algorithm return True if candidate p is the winner (got the highest score), and False otherwise.\r\n",
        "\r\n",
        "\r\n",
        "---\r\n",
        "\r\n",
        "Parameters:\r\n",
        "\r\n",
        "        C: list, shape(num_candidates)\r\n",
        "            set of candidates\r\n",
        "        \r\n",
        "        p: int\r\n",
        "            the candidate that we manipulate for\r\n",
        "        \r\n",
        "        Xs: list, shape(num_voters, num_candidates)\r\n",
        "            preferences of truthful voters\r\n",
        "    \r\n",
        "        Ws: list, shape(num_voters)\r\n",
        "            weights of truthful voters\r\n",
        "    \r\n",
        "        Wt: list, shape(num_manipulators) \r\n",
        "            weights of manipulators\r\n",
        "        \r\n",
        "        rule: string\r\n",
        "            name of the rule: 'Borda' or 'Maximin'\r\n",
        " \r\n",
        "Returns:\r\n",
        "\r\n",
        "        bool:\r\n",
        "            True if manipulation exists\r\n",
        "            False otherwise\r\n",
        "\r\n"
      ]
    },
    {
      "cell_type": "code",
      "metadata": {
        "id": "GYp74qbgC183"
      },
      "source": [
        "\r\n",
        "def algorithm1(C, p, Xs, Wt, Ws, rule):\r\n",
        "    # weights:  list of [weight, manipulator_id] items\r\n",
        "    weights = [[weight, index] for (index, weight) in enumerate(Wt, 1)]\r\n",
        "    # sorted_weights: weights sorted in descending order (by weights)\r\n",
        "    sorted_weights = sorted(weights, key=itemgetter(0), reverse=True)\r\n",
        "    # T_preferences: list of [[preference profile], manipulator_id] sorted by weights\r\n",
        "    T_preferences = [[[] ,sorted_weights[i][1]] for i in range(len(Wt))]\r\n",
        "\r\n",
        "    # all existing preferences --> updated after each manipulator\r\n",
        "    preferences = Xs\r\n",
        "\r\n",
        "    for i in range(len(Wt)):\r\n",
        "        # put candidate p as first preference for all manipulators \r\n",
        "        T_preferences[i][0].append(p)\r\n",
        "\r\n",
        "        # evaluate the score of each candidate (other than p) if manipulator i would put it as his next preference\r\n",
        "        c_scores = {}\r\n",
        "        # ignore candidate p\r\n",
        "        candidates_to_check = [item for item in C if item != p]\r\n",
        "\r\n",
        "        for k in range(len(C) - 1):\r\n",
        "            # check different profiles for manipulator i\r\n",
        "            for c in candidates_to_check:\r\n",
        "                # use his preferences\r\n",
        "                i_curr_pref = [T_preferences[i][0][j] for j in range(len(T_preferences[i][0]))]\r\n",
        "                # put candidate c as next preference\r\n",
        "                i_curr_pref.append(c)\r\n",
        "                # put remaining candidates in preferences (order doesn't metter)\r\n",
        "                remaining_c = [item for item in candidates_to_check if item != c]\r\n",
        "                if remaining_c != []:\r\n",
        "                    i_curr_pref.extend(remaining_c)\r\n",
        "                profile = preferences.copy()\r\n",
        "                profile.append(i_curr_pref)\r\n",
        "                # get scores\r\n",
        "                c_scores[c] = get_scores(rule, C, Ws, Wt, profile)[c]\r\n",
        "            # get candidate with minimal score out of remaining candidates\r\n",
        "            remaining_c_scores = {c: c_scores[c] for c in c_scores.keys() - T_preferences[i][0]}\r\n",
        "            min_c = min(remaining_c_scores, key=remaining_c_scores.get)\r\n",
        "            # put candidate with minimal score as next preference for manipulator i\r\n",
        "            T_preferences[i][0].append(min_c)\r\n",
        "            candidates_to_check = [item for item in candidates_to_check if item != min_c]\r\n",
        "        # add manipulator i final profile to preferences\r\n",
        "        preferences.append(T_preferences[i][0])\r\n",
        "    # calculate scores \r\n",
        "    final_scores = get_scores(rule, C, Ws, Wt, preferences)\r\n",
        "    max_c = max(final_scores, key=final_scores.get)\r\n",
        "\r\n",
        "    return True if max_c == p else False"
      ],
      "execution_count": 100,
      "outputs": []
    },
    {
      "cell_type": "markdown",
      "metadata": {
        "id": "6dMil_uIjasK"
      },
      "source": [
        "# **Algorithm 2**\r\n",
        "\r\n",
        "Checks whether there exists a manipulation in the weighted Borda voting rule.\r\n",
        "\r\n",
        "**Guarantees:**\r\n",
        "\r\n",
        "• In the Borda rule, if there exists a manipulation for an instance with certain weights, Algorithm 2 will succeed when given an extra manipulator with maximal weight.\r\n",
        "\r\n",
        "\r\n",
        "---\r\n",
        "\r\n",
        "\r\n",
        "Each manipulator gives candidate p the maximal score. Since it is weighted, we multiply it by the weight of the manipulator. We then add it to the total Borda-score of p. The next step of the algorithm is to give the highest remaining score to the candidate with the lowest current score (and update his total Borda-score after multiplying by the relevant weight) until all the scores are given.\r\n",
        "\r\n",
        "The algorithm return True if candidate p is the winner (got the highest score), and False otherwise.\r\n",
        "\r\n",
        "\r\n",
        "---\r\n",
        "\r\n",
        "Parameters:\r\n",
        "\r\n",
        "        C: list, shape(num_candidates)\r\n",
        "            set of candidates\r\n",
        "        \r\n",
        "        p: int\r\n",
        "            the candidate that we manipulate for\r\n",
        "        \r\n",
        "        s_scores: dict {candidate: score}\r\n",
        "            Borda scores based on truthful voters \r\n",
        "    \r\n",
        "        Wt: list, shape(num_manipulators) \r\n",
        "            weights of manipulators\r\n",
        "        \r\n",
        "        rule: string\r\n",
        "            name of the rule: 'Borda' \r\n",
        " \r\n",
        "Returns:\r\n",
        "\r\n",
        "        bool:\r\n",
        "            True if manipulation exists\r\n",
        "            False otherwise\r\n",
        "\r\n"
      ]
    },
    {
      "cell_type": "code",
      "metadata": {
        "id": "TWGpDDLvQ5MR"
      },
      "source": [
        "def algorithm2(C, p, s_scores, Wt, rule):\r\n",
        "  # sorted_scores: sorted list of truthful voters scores [candidate, score]\r\n",
        "  sorted_scores = sorted([[c, s] for c,s in s_scores.items()], key=itemgetter(1))\r\n",
        "  \r\n",
        "  # all existing scores --> updated after each manipulator\r\n",
        "  scores = s_scores.copy()\r\n",
        "\r\n",
        "  for i in range(len(Wt)):\r\n",
        "    # update score for candidate p as first preference for manipulator i\r\n",
        "    scores[p] = scores[p] + (get_score_i(rule, C, 1)  * Wt[i])\r\n",
        "    # start building preferences for manipulator i\r\n",
        "    i_preferences = [p]\r\n",
        "    # sort candidates by score and add them to the profile in descending order\r\n",
        "    sorted_scores = sorted([[c, s] for c,s in scores.items()], key=itemgetter(1))\r\n",
        "    i_preferences.extend([c for c, s in sorted_scores if c != p])\r\n",
        "\r\n",
        "    # update scores according to the preferences of manipulator i \r\n",
        "    for j, c in enumerate(i_preferences, 1):\r\n",
        "      if c == p:\r\n",
        "        continue\r\n",
        "      scores[c] = scores[c] + (get_score_i(rule, C, j)  * Wt[i])\r\n",
        "  \r\n",
        "  max_c = max(scores, key=scores.get)\r\n",
        "\r\n",
        "  return True if max_c == p else False\r\n",
        "      \r\n",
        "\r\n",
        "truthful_scores = get_scores('Borda', C, Ws, Wt, Xs)\r\n",
        "algorithm_2 = algorithm2(C, p, truthful_scores, Wt, 'Borda')"
      ],
      "execution_count": 101,
      "outputs": []
    },
    {
      "cell_type": "markdown",
      "metadata": {
        "id": "acdzM7dKl9BC"
      },
      "source": [
        "**Algorithm 1 and Algorithm 2 comparison:**\r\n",
        "\r\n",
        "kill me now"
      ]
    },
    {
      "cell_type": "markdown",
      "metadata": {
        "id": "FnO_fnWZ3d_f"
      },
      "source": [
        "# **Algorithm 3**\r\n",
        "\r\n",
        "Checks whether there exists a manipulation in the Plurality with Run-off voting rule.\r\n",
        "\r\n",
        "**Guarantees:**\r\n",
        "\r\n",
        "If there exists a manipulation for an instance with certain weights, Algorithm 3 will succeed when given an extra manipulator with maximal weight.\r\n",
        "\r\n",
        "---\r\n",
        "\r\n",
        "**Explanation of Algorithm 3:**\r\n",
        "\r\n",
        "\r\n",
        "*   For every candidate (g) except our candidate of interest (p), we calculate the score increment they need to win the first round of the plurality with round-off\r\n",
        "\r\n",
        "*   We check if the manipulators have enough weight to give this candidate the increment they need.\r\n",
        "If they don't - continue to the next iteration (select a new (g) )\r\n",
        "\r\n",
        "*   Now some manipulators vote for (g), and some for (p).\r\n",
        "\r\n",
        "*   We use dynamic programming to obtain a partition over the set of manipulators into 2 subsets, one of which consists of manipulators that will vote for (p), and the oter concists of manipulators that will vote for (g). \r\n",
        "The partition maximizes the score of (p) while making sure (g) gets enough votes to pass to the next round.\r\n",
        "\r\n",
        "*   We check if given this partition (p) does proceed to the second round (along with g which is guaranteed to).\r\n",
        "If they don't - continue to the next iteration (select a new (g) )\r\n",
        "\r\n",
        "*   If we reach this point, we have that both (p) and (g) proceed to the second round.\r\n",
        "\r\n",
        "*   We calculate the pairwise scores between (p) and (g) (including the votes of the manipulators).\r\n",
        "\r\n",
        "*   If (p) wins the pairwise match - the algorithm succeeded to find a manipulation of plurality with round-off in favor of (p) and returns True.\r\n",
        "Otherwise, continue to the next iteration (select a new (g) )\r\n",
        "\r\n",
        "*   If we failed for all candidates (g) - the algorithm couldn't find a manipulation, and returns False.\r\n",
        "\r\n",
        "---\r\n",
        "\r\n",
        "**Idea for extension:**\r\n",
        "\r\n",
        "The algorithm returns only True/False, but in the way it was designed, it's quite simple to extend it to return the required votes of the group of manipulators to perform the manipulation it found:\r\n",
        "\r\n",
        "Given the 'x' vector which is found during the dynamic programming, we have which manipulators vote for (p) and which vote for (g) in order to make the manipulation happen, so all it takes is to convert this vector into a set of preferences of the manipulators and return it back from the algorithm.\r\n",
        "\r\n",
        "\r\n",
        "\r\n",
        "\r\n",
        "\r\n",
        "\r\n",
        "\r\n",
        "\r\n",
        "\r\n",
        "\r\n",
        "\r\n",
        "\r\n",
        "\r\n"
      ]
    },
    {
      "cell_type": "markdown",
      "metadata": {
        "id": "VETI71gV4aSZ"
      },
      "source": [
        "**plurality_scores_eval:**\r\n",
        "\r\n",
        "Calculates the weighted plurality score for every candidate requested\r\n",
        "\r\n",
        "---\r\n",
        "\r\n",
        "Parameters:\r\n",
        "\r\n",
        "        V: ndarray, shape(num_voters, num_candidates)\r\n",
        "            set of preferences of some group of voters\r\n",
        "    \r\n",
        "        C: set, shape(num_candidates)\r\n",
        "            set of candidates for which the plurality score is calculated\r\n",
        "    \r\n",
        "        W: list, shape(num_voters)\r\n",
        "            weights of voters in V\r\n",
        "    \r\n",
        "Returns:\r\n",
        "\r\n",
        "        scores: dict\r\n",
        "            candidate: wighted plurality score"
      ]
    },
    {
      "cell_type": "code",
      "metadata": {
        "id": "bL72s3Cq4QTS"
      },
      "source": [
        "def plurality_scores_eval(V, C, W):\r\n",
        "    scores = {candidate: 0 for candidate in C}\r\n",
        "    for voter, candidate in enumerate(V[:, 0]):\r\n",
        "        scores[candidate] += W[voter]\r\n",
        "\r\n",
        "    return scores"
      ],
      "execution_count": 102,
      "outputs": []
    },
    {
      "cell_type": "markdown",
      "metadata": {
        "id": "Eac-CM7c40LU"
      },
      "source": [
        "**pairwise_scores_eval:**\r\n",
        "\r\n",
        "Calculates the weighed pairwise scores between candidates\r\n",
        "\r\n",
        "---\r\n",
        "\r\n",
        "Parameters:\r\n",
        "\r\n",
        "        V: ndarray, shape(num_voters, num_candidates)\r\n",
        "            set of preferences of some group of voters\r\n",
        "\r\n",
        "        C: set, shape(num_candidates)\r\n",
        "            set of candidates for which the plurality score is calculated\r\n",
        "\r\n",
        "        W: list, shape(num_voters)\r\n",
        "            weights of voters in V\r\n",
        "    \r\n",
        "Returns:\r\n",
        "\r\n",
        "        scores: dict\r\n",
        "            (candidate i, candidate j): weighted count of pairwise victories of i over j"
      ]
    },
    {
      "cell_type": "code",
      "metadata": {
        "id": "I27kkYj740ZE"
      },
      "source": [
        "def pairwise_scores_eval(V, C, W):\r\n",
        "    scores = {(i, j): 0 for i, j in product(C, C) if i != j}\r\n",
        "\r\n",
        "    for voter, voter_pref in enumerate(V):\r\n",
        "        winners = set()\r\n",
        "        for c in voter_pref:\r\n",
        "            for winner in winners:\r\n",
        "                scores[(winner, c)] += W[voter]\r\n",
        "            winners.add(c)\r\n",
        "\r\n",
        "    return scores"
      ],
      "execution_count": 103,
      "outputs": []
    },
    {
      "cell_type": "markdown",
      "metadata": {
        "id": "kTrKLavR5Gie"
      },
      "source": [
        "**indices_wise:**\r\n",
        "\r\n",
        "Checks if tie is broken in favor of 'first' using indices-wise tie breaking\r\n",
        "\r\n",
        "---\r\n",
        "\r\n",
        "Parameters:\r\n",
        "\r\n",
        "        first: int\r\n",
        "            candidate of interest (the one we're interested in checking whether he wins the tie break)\r\n",
        "\r\n",
        "        second: int\r\n",
        "            the adversary of 'first'\r\n",
        "    \r\n",
        "Returns:\r\n",
        "\r\n",
        "        True - if the first-second pairwise match-up tie-breaks in favor of first (ignores actual scores)\r\n",
        "        False - otherwise"
      ]
    },
    {
      "cell_type": "code",
      "metadata": {
        "id": "2S9qLiLH5G0V"
      },
      "source": [
        "def indices_wise(first, second):\r\n",
        "    return first < second"
      ],
      "execution_count": 104,
      "outputs": []
    },
    {
      "cell_type": "markdown",
      "metadata": {
        "id": "Mw-Z_sHO_S54"
      },
      "source": [
        "**weight_subset_approximate:**\r\n",
        "\r\n",
        "Uses dynamic programming to find the voting scheme for the manipulators to maximize candidate p's score, while getting some other selected candidate to pass to the second stage of the plurality with round-off.\r\n",
        "\r\n",
        "---\r\n",
        "\r\n",
        "Parameters:\r\n",
        "\r\n",
        "        Wt: list, shape(num_manipulators)\r\n",
        "            weights of manipulators\r\n",
        "\r\n",
        "        required_inc: float\r\n",
        "            the increment necessary for some selected candidate to pass to the second stage\r\n",
        "\r\n",
        "        error: float\r\n",
        "            size of the error window\r\n",
        "    \r\n",
        "Returns:\r\n",
        "\r\n",
        "        1 - x_bar: ndarray, shape(num_manipulators)\r\n",
        "            values of {0, 1}:\r\n",
        "                0 - manipulators who place p first\r\n",
        "                1 - manipulators who don't play p first"
      ]
    },
    {
      "cell_type": "code",
      "metadata": {
        "id": "uJWv1bTt_TLG"
      },
      "source": [
        "def weight_subset_approximate(Wt, required_inc, error):\r\n",
        "    if not 0 <= error <= max(Wt):\r\n",
        "        print(f'Error should be in range of [0, {max(Wt)}]')\r\n",
        "        exit()\r\n",
        "\r\n",
        "    voter_size = len(Wt)\r\n",
        "\r\n",
        "    ku = np.floor(error / (2 * voter_size)) + 1\r\n",
        "\r\n",
        "    # keeping a mapping to the original order before sorting by weight\r\n",
        "    voter_mapping = [(weight, voter_id) for voter_id, weight in enumerate(Wt)]\r\n",
        "\r\n",
        "    # sorting the weights for the dynamic programming algorithm\r\n",
        "    weights = sorted(voter_mapping, key=lambda x: x[0])\r\n",
        "    mapping = list(np.array(weights)[:, 1].reshape(-1))\r\n",
        "    weights = list(np.array(weights)[:, 0].reshape(-1))\r\n",
        "\r\n",
        "    # contribution of each  voter to the score we're trying to maximize (the score of candidate p)\r\n",
        "    values = [np.floor(w / ku) for w in weights]\r\n",
        "\r\n",
        "    # define the dynamic programming table:\r\n",
        "    # shape is: (amount of voters, weight thresholds)\r\n",
        "    # T[i, j]:\r\n",
        "    #   maximal score for candidate p a subset of the i voters\r\n",
        "    #   with the lowest weight, with a maximal weight of j\r\n",
        "    max_score_not_p = np.sum(weights) - required_inc\r\n",
        "\r\n",
        "    if max_score_not_p % voter_size == 0:\r\n",
        "        # one to account for the last index, as the range is not inclusive\r\n",
        "        col_size = (max_score_not_p / voter_size) + 1\r\n",
        "    else:\r\n",
        "        # one to account for the last index, as the range is not inclusive\r\n",
        "        # one to account for the float division discrepancy\r\n",
        "        col_size = (max_score_not_p // voter_size) + 1 + 1\r\n",
        "\r\n",
        "    shape = (voter_size, int(col_size))\r\n",
        "    T = np.empty(shape=shape)\r\n",
        "\r\n",
        "    weight_inc = max_score_not_p // voter_size\r\n",
        "    for i in range(shape[0]):\r\n",
        "        for j in range(shape[1]):\r\n",
        "            if i == 0:\r\n",
        "                if weights[i] > j * weight_inc:\r\n",
        "                    T[i, j] = 0\r\n",
        "                else:\r\n",
        "                    T[i, j] = values[i]\r\n",
        "            else:\r\n",
        "                if weights[i] > j * weight_inc:\r\n",
        "                    T[i, j] = T[i - 1, j]\r\n",
        "                else:\r\n",
        "                    # adjusting index jump for the case where we use the i'th voter\r\n",
        "                    if weights[i] % weight_inc == 0:\r\n",
        "                        remaining_index = int(j - (weights[i] / weight_inc))\r\n",
        "                    else:\r\n",
        "                        remaining_index = int(j - (weights[i] // weight_inc) - 1)\r\n",
        "\r\n",
        "                    # either use voter i to vote for p, or not\r\n",
        "                    T[i, j] = max(\r\n",
        "                        [values[i] + T[i - 1, remaining_index],\r\n",
        "                         T[i - 1, j]])\r\n",
        "\r\n",
        "    # Now we have the maximal score for p, that being in index T[shape[0] - 1, shape[1] - 1]\r\n",
        "    # which follows from the definition of T.\r\n",
        "    # All that remains is to find the voters that need to rank p first to get this score.\r\n",
        "\r\n",
        "    # find indexes in T which are used to obtain the maximal value\r\n",
        "    p_subset = []\r\n",
        "    j = shape[1] - 1\r\n",
        "    for i in reversed(range(shape[0])):\r\n",
        "        if j == 0:  # found all voters who need to vote for p\r\n",
        "            break\r\n",
        "\r\n",
        "        if T[i, j] == T[i - 1, j]:  # voter i was not used to achieve the maxima\r\n",
        "            continue\r\n",
        "        else:  # voter i was used to achieve the maxima\r\n",
        "            # append i to the subset of manipulators who vote p\r\n",
        "            p_subset.append(i)\r\n",
        "\r\n",
        "            # keeping the current score before starting to traverse backwards\r\n",
        "            curr_score = T[i, j]\r\n",
        "\r\n",
        "            # i was used -> need to reduce the current score by values[i]\r\n",
        "            # -> traversing T back to the cell where T[i, ?] = current_score - i's value\r\n",
        "            while T[i, j] > curr_score - values[i]:\r\n",
        "                j = j - 1\r\n",
        "\r\n",
        "    # set 1 for every manipulator that votes for p, 0 otherwise\r\n",
        "    x_bar = np.zeros(shape=voter_size)\r\n",
        "    for v in range(voter_size):\r\n",
        "        if v in p_subset:\r\n",
        "            # map each voter to its original index\r\n",
        "            x_bar[mapping[v]] = 1\r\n",
        "\r\n",
        "    return 1 - x_bar"
      ],
      "execution_count": 105,
      "outputs": []
    },
    {
      "cell_type": "markdown",
      "metadata": {
        "id": "9_TPON6yAQUH"
      },
      "source": [
        "**algorithm3**\r\n",
        "\r\n",
        "---\r\n",
        "\r\n",
        "Checks if given the parameters there exists a manipulation\r\n",
        "that puts p in the first place under the plurality with\r\n",
        "runoff voting rule.\r\n",
        "\r\n",
        "\r\n",
        "\r\n",
        "Parameters:\r\n",
        "\r\n",
        "        C: set, shape(num_candidates)\r\n",
        "            set of candidates\r\n",
        "\r\n",
        "        p: int\r\n",
        "            the candidate that we manipulate for\r\n",
        "\r\n",
        "        Xs: ndarray, shape(num_voters, num_candidates)\r\n",
        "            preferences of voters in S\r\n",
        "\r\n",
        "        Ws: list, shape(num_voters)\r\n",
        "            weights of voters in S\r\n",
        "\r\n",
        "        Wt: list, shape(num_manipulators \r\n",
        "            weights of manipulators\r\n",
        "\r\n",
        "        u: float\r\n",
        "            size of the error window\r\n",
        "\r\n",
        "Returns:\r\n",
        "\r\n",
        "        True - if a manipulation exists.\r\n",
        "        False - otherwise"
      ]
    },
    {
      "cell_type": "code",
      "metadata": {
        "id": "8JtX3PZnAQqx"
      },
      "source": [
        "def algorithm3(C, p, Xs, Ws, Wt, u, tie_breaking):\r\n",
        "    plurality_scores = plurality_scores_eval(Xs, C, Ws)\r\n",
        "    pairwise_scores = pairwise_scores_eval(Xs, C, Ws)\r\n",
        "\r\n",
        "    required_inc = {}\r\n",
        "\r\n",
        "    plurality = plurality_scores.copy()\r\n",
        "    del plurality[p]\r\n",
        "    prev_g = -1\r\n",
        "    for g in C - {p}:\r\n",
        "        # excluding g\r\n",
        "        del plurality[g]\r\n",
        "\r\n",
        "        if prev_g != -1:\r\n",
        "            # returning the previously excluded candidate to the group of candidates\r\n",
        "            plurality[prev_g] = plurality_scores[prev_g]\r\n",
        "\r\n",
        "        prev_g = g\r\n",
        "\r\n",
        "        # finding the candidates that achieve the maximal plurality score\r\n",
        "        max_score = np.array(list(plurality.values())).max()\r\n",
        "        max_candidates = [candidate for candidate, score in plurality.items() if score == max_score]\r\n",
        "\r\n",
        "        # assigning required increment in plurality of score for g to win the first round\r\n",
        "        defeater_found = False\r\n",
        "        for candidate in max_candidates:\r\n",
        "            if tie_breaking(candidate, g):           # indices-wise tie breaking - smaller index wins\r\n",
        "\r\n",
        "                required_inc[g] = max_score - plurality_scores[g] + 1\r\n",
        "                defeater_found = True\r\n",
        "\r\n",
        "        if not defeater_found:\r\n",
        "            required_inc[g] = max_score - plurality_scores[g]\r\n",
        "\r\n",
        "        # if the manipulators can't make g win the first round -> proceed to the next candidate\r\n",
        "        if required_inc[g] > np.sum(np.array(Wt)):\r\n",
        "            continue\r\n",
        "\r\n",
        "        # dynamic programming\r\n",
        "        # x_j = 0 -> votes for p\r\n",
        "        # x_j = 1 -> votes for g\r\n",
        "        if required_inc[g] > 0:\r\n",
        "            x = weight_subset_approximate(Wt, required_inc[g], u)\r\n",
        "        else:\r\n",
        "            x = np.zeros(shape=len(Wt))\r\n",
        "\r\n",
        "        winning_rival_found = False\r\n",
        "        for c_rival in C - {p, g}:\r\n",
        "            manipulation_inc = (1 - x) @ Wt\r\n",
        "\r\n",
        "            # c_rival defeats p, either strong defeat or defeat by tie-break\r\n",
        "            if plurality_scores[c_rival] > plurality_scores[p] + manipulation_inc or \\\r\n",
        "                    (plurality_scores[c_rival] == plurality_scores[p] + manipulation_inc and tie_breaking(c_rival, p)):\r\n",
        "                # indices-wise tie breaking\r\n",
        "                winning_rival_found = True\r\n",
        "                break\r\n",
        "\r\n",
        "        # if couldn't manage to make it so p also wins the first round while making g pass the first round\r\n",
        "        # -> failed to make p win -> proceed to the next candidate\r\n",
        "        if winning_rival_found:\r\n",
        "            continue\r\n",
        "\r\n",
        "        # pairwise scores including the group of manipulators\r\n",
        "        p_over_g_score = pairwise_scores[(p, g)] + (1 - x) @ Wt\r\n",
        "        g_over_p_score = pairwise_scores[(g, p)] + x @ Wt\r\n",
        "\r\n",
        "        # p strongly wins or tied and tie breaks in their favor\r\n",
        "        if p_over_g_score > g_over_p_score or \\\r\n",
        "                p_over_g_score == g_over_p_score and tie_breaking(p, g):\r\n",
        "            # at this point we know that both p and g will proceed to the second round\r\n",
        "            # and if the above condition holds, then p will beat g in the second round\r\n",
        "            # thus a manipulation in favor of p is possible\r\n",
        "            return True\r\n",
        "\r\n",
        "    # couldn't find a way to get p to win\r\n",
        "    return False"
      ],
      "execution_count": 106,
      "outputs": []
    },
    {
      "cell_type": "markdown",
      "metadata": {
        "id": "HyN50R75CE9D"
      },
      "source": [
        "**Simulation to support guarantee for Algorithm 1:**\r\n",
        "\r\n",
        "*   In the Maximin rule, if there exists a manipulation for an instance with certain weights, Algorithm 1 will succeed when given two copies of the set of manipulators.\r\n",
        "\r\n",
        "---\r\n",
        "\r\n",
        "Output explanation:\r\n",
        "\r\n",
        "        True - Found a manipulation in favor of p\r\n",
        "        False - Couldn't find a manipulation in favor or p\r\n"
      ]
    },
    {
      "cell_type": "code",
      "metadata": {
        "colab": {
          "base_uri": "https://localhost:8080/"
        },
        "id": "F2Hva3LT6b2V",
        "outputId": "b50bc7c3-55f3-4364-d309-e3993d9c3b46"
      },
      "source": [
        "C = [1, 2, 3]\r\n",
        "Xs = [[3, 1, 2], \r\n",
        "      [3, 1, 2], \r\n",
        "      [3, 1, 2], \r\n",
        "      [1, 2, 3], \r\n",
        "      [1, 2, 3], \r\n",
        "      [1, 2, 3]]\r\n",
        "Ws = [3, 4, 2, 3, 2, 2]\r\n",
        "Wt = [3, 2]\r\n",
        "Wt_copies = [3, 2, 3, 2]\r\n",
        "\r\n",
        "# for candidate (2) there is no possible manipulation, and we see that the algorithm\r\n",
        "# indeed returns False\r\n",
        "p = 2\r\n",
        "alg_1_no_manipulation = algorithm1(C.copy(), p, Xs.copy(), Wt.copy(), Ws.copy(), 'Maximin')\r\n",
        "\r\n",
        "# although candidate (1) isn't winning by maximin, under the given preferences\r\n",
        "# there exists a manipulation in favor of (1)\r\n",
        "# we give 2 copies of the manipulator set to Algorithm 1, which guarantees\r\n",
        "# us it will find some manipulation\r\n",
        "p = 1\r\n",
        "alg_1_manipulation = algorithm1(C.copy(), p, Xs.copy(), Wt_copies.copy(), Ws.copy(), 'Maximin')\r\n",
        "\r\n",
        "print(\"Output given input for which there is no manipulation: \", alg_1_no_manipulation)\r\n",
        "print(\"Output given input for which there is a manipulation (with two copies of the manipulators): \", alg_1_manipulation)"
      ],
      "execution_count": 107,
      "outputs": [
        {
          "output_type": "stream",
          "text": [
            "Output for input in which there is no manipulation:  False\n",
            "Output for input in which there is a manipulation (with two copies of the manipulators):  True\n"
          ],
          "name": "stdout"
        }
      ]
    },
    {
      "cell_type": "markdown",
      "metadata": {
        "id": "UDhNXeW9JY9h"
      },
      "source": [
        "**Simulation to support guarantee for Algorithm 2:**\r\n",
        "\r\n",
        "*   In the Borda rule, if there exists a manipulation for an instance with certain weights, Algorithm 2 will succeed when given an extra manipulator with maximal weight.\r\n",
        "\r\n",
        "---\r\n",
        "\r\n",
        "Output explanation:\r\n",
        "\r\n",
        "        True - Found a manipulation in favor of p\r\n",
        "        False - Couldn't find a manipulation in favor or p"
      ]
    },
    {
      "cell_type": "code",
      "metadata": {
        "colab": {
          "base_uri": "https://localhost:8080/"
        },
        "id": "RDVJ9Sbt6kjY",
        "outputId": "800a2684-d5e4-4a64-d787-36d953099f0f"
      },
      "source": [
        "C = [1, 2, 3]\r\n",
        "p = 3\r\n",
        "Xs = [[3, 1, 2], \r\n",
        "      [3, 1, 2], \r\n",
        "      [3, 1, 2], \r\n",
        "      [1, 2, 3], \r\n",
        "      [1, 2, 3], \r\n",
        "      [1, 2, 3]]\r\n",
        "Ws = [3, 4, 2, 3, 2, 2]\r\n",
        "Wt = [3, 2]\r\n",
        "Wt_extended = [3, 2, 4]\r\n",
        "\r\n",
        "truthful_scores = get_scores('Borda', C, Ws, Wt, Xs)\r\n",
        "algorithm_2 = algorithm2(C, p, truthful_scores, Wt, 'Borda')\r\n",
        "\r\n",
        "# There is no manipulation in favor of candidate (3) which would make them win.\r\n",
        "p = 2\r\n",
        "alg_2_no_manipulation = algorithm2(C.copy(), p, truthful_scores.copy(), Wt.copy(), 'Borda')\r\n",
        "\r\n",
        "# although candidate (3) isn't winning by maximin, under the given preferences\r\n",
        "# there exists a manipulation in favor of (3)\r\n",
        "# we give 1 extra manipulator with maximal weight to Algorithm 2, which guarantees\r\n",
        "# us it will find some manipulation\r\n",
        "p = 3\r\n",
        "alg_2_manipulation = algorithm2(C.copy(), p, truthful_scores.copy(), Wt_extended.copy(), 'Borda')\r\n",
        "\r\n",
        "print(\"Output given input for which there is no manipulation:\", alg_2_no_manipulation)\r\n",
        "print(\"Output given input for which there is a manipulation (with extra manipulator with maximal weight): \", alg_2_manipulation)"
      ],
      "execution_count": 108,
      "outputs": [
        {
          "output_type": "stream",
          "text": [
            "Output for input in which there is no manipulation: False\n",
            "Output for input in which there is a manipulation (with extra manipulator with maximal weight):  True\n"
          ],
          "name": "stdout"
        }
      ]
    },
    {
      "cell_type": "markdown",
      "metadata": {
        "id": "10c4ATHFMYrN"
      },
      "source": [
        "**Simulation to support guarantee for Algorithm 3:**\r\n",
        "\r\n",
        "*   In the Plurality with Runoff rule, if there exists a manipulation for an instance with certain weights, Algorithm3will succeed whengiven an extra manipulator with maximal weight.\r\n",
        "\r\n",
        "---\r\n",
        "\r\n",
        "Output explanation:\r\n",
        "\r\n",
        "        True - Found a manipulation in favor of p\r\n",
        "        False - Couldn't find a manipulation in favor or p"
      ]
    },
    {
      "cell_type": "code",
      "metadata": {
        "colab": {
          "base_uri": "https://localhost:8080/"
        },
        "id": "TDk932S4Mldq",
        "outputId": "6cb0d1a7-526a-4e49-ac43-eb8712311af6"
      },
      "source": [
        "V = [[1, 2, 3],\r\n",
        "     [2, 1, 3],\r\n",
        "     [3, 1, 2],]\r\n",
        "V = np.array(V)\r\n",
        "\r\n",
        "candidates = set([1, 2, 3])\r\n",
        "p = 2               # manipulate in favor of candidate (2)  \r\n",
        "Ws = [2, 1, 2]\r\n",
        "Wt = [1, 1]\r\n",
        "error = 1\r\n",
        "\r\n",
        "# There's no manipulation in the above settings\r\n",
        "alg_3_no_manipulation = algorithm3(C=candidates, p=p, Xs=V, Ws=Ws, Wt=Wt, u=error, tie_breaking=indices_wise)\r\n",
        "\r\n",
        "Wt = [1, 1, 1]\r\n",
        "# a manipulation exists in the new settings \r\n",
        "\r\n",
        "# Notice that the manipulation here is not strictly voting for (2), but\r\n",
        "# to actually have (3) beat (1) so that p=(2) won't pairwise lose to (1).\r\n",
        "# The algorithm needs to find this variation.\r\n",
        "\r\n",
        "# add an extra manipulator with maximal weight (max weight = 1)\r\n",
        "Wt += [max(Wt)]\r\n",
        "\r\n",
        "alg_3_manipulation = algorithm3(C=candidates, p=p, Xs=V, Ws=Ws, Wt=Wt, u=error, tie_breaking=indices_wise)\r\n",
        "\r\n",
        "print(\"Output given input for which there is no manipulation:\", alg_3_no_manipulation)\r\n",
        "print(\"Output given input for which there is a manipulation (with extra manipulator with maximal weight): \", alg_3_manipulation)"
      ],
      "execution_count": 109,
      "outputs": [
        {
          "output_type": "stream",
          "text": [
            "Output for input in which there is no manipulation: False\n",
            "Output for input in which there is a manipulation (with extra manipulator with maximal weight):  True\n"
          ],
          "name": "stdout"
        }
      ]
    },
    {
      "cell_type": "markdown",
      "metadata": {
        "id": "eYwSErnajjU3"
      },
      "source": [
        "# **Summary**\r\n",
        "\r\n",
        "In this work we implemented the following algorithms:\r\n",
        "\r\n",
        "*   Algorithm 1, which is guaranteed to find a manipulation (when there is one) in the Maximin rule when given two copies of the set of manipulators \r\n",
        "*   Algorithm 2, which is guaranteed to find a manipulation (when there is one) in the Borda rule when given an extra manipulator with maximal weight \r\n",
        "*   Algorithm 3, which is guaranteed to find a manipulation (when there is one) in the Plurality with Runoff rule when given an extra manipulator with maximal weight.\r\n",
        "\r\n",
        "To show our implementation is valid, we ran those algorithms on demo input which consists of cases where there is and is no manipulation.\r\n",
        "\r\n",
        "The paper features a proof to the time complexity of the algorithms. We had no intention of showing that, as our work was around implementation of the algorithms featured in the paper.\r\n",
        "\r\n",
        "For the purposes of testing the validity of those algorithms there was no need to use large sets of voters and preferences, and small examples which we could confirm sufficed."
      ]
    }
  ]
}